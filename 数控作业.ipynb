{
 "cells": [
  {
   "cell_type": "markdown",
   "metadata": {
    "collapsed": true
   },
   "source": [
    "二维图形基本几何变换是指相对于坐标原点和坐标轴进行的几何变换，包括平移、比例、旋转、对称和错切5种变换。\n",
    "代码通过二维图形基本几何变换矩阵变换三角形上每一个顶点实现。\n"
   ]
  },
  {
   "cell_type": "code",
   "execution_count": 1,
   "metadata": {
    "collapsed": true
   },
   "outputs": [],
   "source": [
    "import matplotlib.pyplot as plt\n",
    "import numpy as np\n",
    "import matplotlib.patches as mpathes\n",
    "import math\n",
    "#导入绘图所需函数库"
   ]
  },
  {
   "cell_type": "markdown",
   "metadata": {},
   "source": [
    "# 绘制原始三角形"
   ]
  },
  {
   "cell_type": "code",
   "execution_count": 2,
   "metadata": {},
   "outputs": [
    {
     "data": {
      "image/png": "[encoded data removed]",
      "text/plain": [
       "<matplotlib.figure.Figure at 0x1c0843625c0>"
      ]
     },
     "metadata": {},
     "output_type": "display_data"
    }
   ],
   "source": [
    "#绘制坐标轴\n",
    "plt.figure()\n",
    "#设置三角形三个顶点a、b、c的x,y坐标\n",
    "ax=1\n",
    "ay=1\n",
    "bx=2\n",
    "by=1\n",
    "cx=1\n",
    "cy=2 \n",
    "#以扩展三角形二维点为三维点与变换矩阵运算\n",
    "a=np.array([ax,ay,1])\n",
    "b=np.array([bx,by,1])\n",
    "c=np.array([cx,cy,1])\n",
    "#设置坐标轴(x,y)取值范围\n",
    "plt.xlim(-4,6)\n",
    "plt.ylim(-4,4)\n",
    "#绘制三角形\n",
    "pgon = plt.Polygon(([ax,ay], [bx,by], [cx,cy], [ax,ay]))\n",
    "#添加图形对象\n",
    "plt.gca().add_patch(pgon)\n",
    "#绘制图形并显示\n",
    "plt.show(pgon)"
   ]
  },
  {
   "cell_type": "markdown",
   "metadata": {},
   "source": [
    "# 绘制平移后图形"
   ]
  },
  {
   "cell_type": "code",
   "execution_count": 3,
   "metadata": {},
   "outputs": [
    {
     "data": {
      "image/png": "[encoded data removed]",
      "text/plain": [
       "<matplotlib.figure.Figure at 0x1c08641ebe0>"
      ]
     },
     "metadata": {},
     "output_type": "display_data"
    }
   ],
   "source": [
    "#绘制坐标轴\n",
    "plt.figure()\n",
    "#设置坐标轴(x,y)取值范围\n",
    "plt.xlim(-4,6)\n",
    "plt.ylim(-4,4)\n",
    "#设置向上平移步长\n",
    "up=1\n",
    "#设置向右平移步长\n",
    "right=2\n",
    "#平移变换矩阵\n",
    "trans1= np.array([[1,0,0],[0,1,0],[right,up,1]])\n",
    "#点积实现平移变换\n",
    "a1=np.dot(a,trans1)\n",
    "b1=np.dot(b,trans1)\n",
    "c1=np.dot(c,trans1)\n",
    "#绘制平移后三角形\n",
    "pgon1 = plt.Polygon(([a1[0],a1[1]], [b1[0],b1[1]], [c1[0],c1[1]], [a1[0],a1[1]]),color='orange')\n",
    "#添加图形对象\n",
    "plt.gca().add_patch(pgon1)\n",
    "#绘制图形并显示\n",
    "plt.show(pgon1)"
   ]
  },
  {
   "cell_type": "markdown",
   "metadata": {},
   "source": [
    "# 绘制缩放后图形"
   ]
  },
  {
   "cell_type": "code",
   "execution_count": 4,
   "metadata": {},
   "outputs": [
    {
     "data": {
      "image/png": "[encoded data removed]",
      "text/plain": [
       "<matplotlib.figure.Figure at 0x1c086465518>"
      ]
     },
     "metadata": {},
     "output_type": "display_data"
    }
   ],
   "source": [
    "#绘制坐标轴\n",
    "plt.figure()\n",
    "#设置坐标轴(x,y)取值范围\n",
    "plt.xlim(-4,6)\n",
    "plt.ylim(-4,4)\n",
    "#设置X轴方向缩放因子\n",
    "fx=0.5\n",
    "#设置Y轴方向缩放因子\n",
    "fy=2\n",
    "#缩放变换矩阵\n",
    "trans3= np.array([[fx,0,0],[0,fy,0],[0,0,1]])\n",
    "#点积实现缩放变换\n",
    "a3=np.dot(a,trans3)\n",
    "b3=np.dot(b,trans3)\n",
    "c3=np.dot(c,trans3)\n",
    "#绘制缩放后三角形\n",
    "pgon3 = plt.Polygon(([a3[0],a3[1]], [b3[0],b3[1]], [c3[0],c3[1]], [a3[0],a3[1]]),color='b')\n",
    "#添加图形对象\n",
    "plt.gca().add_patch(pgon3)\n",
    "#绘制并显示\n",
    "plt.show(pgon3)"
   ]
  },
  {
   "cell_type": "markdown",
   "metadata": {},
   "source": [
    "# 绘制旋转后图形"
   ]
  },
  {
   "cell_type": "code",
   "execution_count": 5,
   "metadata": {},
   "outputs": [
    {
     "data": {
      "image/png": "[encoded data removed]",
      "text/plain": [
       "<matplotlib.figure.Figure at 0x25c7f70c780>"
      ]
     },
     "metadata": {},
     "output_type": "display_data"
    }
   ],
   "source": [
    "#绘制坐标轴\n",
    "plt.figure()\n",
    "#设置坐标轴(x,y)取值范围\n",
    "plt.xlim(-4,6)\n",
    "plt.ylim(-4,4)\n",
    "#设置旋转角度(弧度制输入)\n",
    "th=math.pi/3\n",
    "#设置旋转变换矩阵\n",
    "trans2= np.array([[math.cos(th),math.sin(th),0],[-math.sin(th),math.cos(th),0],[0,0,1]])\n",
    "#点积实现旋转变换\n",
    "a2=np.dot(a,trans2)\n",
    "b2=np.dot(b,trans2)\n",
    "c2=np.dot(c,trans2)\n",
    "#绘制旋转后三角形\n",
    "pgon2 = plt.Polygon(([a2[0],a2[1]], [b2[0],b2[1]], [c2[0],c2[1]], [a2[0],a2[1]]),color='r')\n",
    "#添加图形对象\n",
    "plt.gca().add_patch(pgon2)\n",
    "#绘制图形并显示\n",
    "plt.show(pgon2)"
   ]
  },
  {
   "cell_type": "markdown",
   "metadata": {},
   "source": [
    "# 绘制错切后图形"
   ]
  },
  {
   "cell_type": "code",
   "execution_count": 10,
   "metadata": {},
   "outputs": [
    {
     "data": {
      "image/png": "[encoded data removed]",
      "text/plain": [
       "<matplotlib.figure.Figure at 0x25c7f9659b0>"
      ]
     },
     "metadata": {},
     "output_type": "display_data"
    }
   ],
   "source": [
    "#绘制坐标轴\n",
    "plt.figure()\n",
    "#设置坐标轴(x,y)取值范围\n",
    "plt.xlim(-4,6)\n",
    "plt.ylim(-4,4)\n",
    "#设置错切因子，x坐标不变，y坐标增加一定比例(与x值相关)\n",
    "bb=0\n",
    "cc=2\n",
    "#设置错切变换矩阵\n",
    "trans4= np.array([[1,bb,0],[cc,1,0],[0,0,1]])\n",
    "#点积实现错切变换\n",
    "a4=np.dot(a,trans4)\n",
    "b4=np.dot(b,trans4)\n",
    "c4=np.dot(c,trans4)\n",
    "#绘制错切后三角形\n",
    "pgon4 = plt.Polygon(([a4[0],a4[1]], [b4[0],b4[1]], [c4[0],c4[1]], [a4[0],a4[1]]),color='m')\n",
    "#添加图形对象\n",
    "plt.gca().add_patch(pgon4)\n",
    "#绘制并显示\n",
    "plt.show(pgon4)"
   ]
  },
  {
   "cell_type": "markdown",
   "metadata": {},
   "source": [
    "# 绘制对称后图形"
   ]
  },
  {
   "cell_type": "code",
   "execution_count": 8,
   "metadata": {},
   "outputs": [
    {
     "data": {
      "image/png": "[encoded data removed]",
      "text/plain": [
       "<matplotlib.figure.Figure at 0x25c7f890780>"
      ]
     },
     "metadata": {},
     "output_type": "display_data"
    }
   ],
   "source": [
    "#绘制坐标轴\n",
    "plt.figure()\n",
    "#设置坐标轴(x,y)取值范围\n",
    "plt.xlim(-4,6)\n",
    "plt.ylim(-4,4)\n",
    "#设置对称轴\n",
    "#y轴对称\n",
    "ya=-1\n",
    "yb=0\n",
    "yc=0\n",
    "yd=1\n",
    "'''\n",
    "#x轴对称\n",
    "ya=1\n",
    "yb=0\n",
    "yc=0\n",
    "yd=-1\n",
    "#原点对称\n",
    "ya=-1\n",
    "yb=0\n",
    "yc=0\n",
    "yd=-1\n",
    "\n",
    "'''\n",
    "#设置变换矩阵\n",
    "trans5= np.array([[ya,yb,0],[yc,yd,0],[0,0,1]])\n",
    "#点积实现对称变换\n",
    "a5=np.dot(a,trans5)\n",
    "b5=np.dot(b,trans5)\n",
    "c5=np.dot(c,trans5)\n",
    "#绘制对称后三角形\n",
    "pgon5 = plt.Polygon(([a5[0],a5[1]], [b5[0],b5[1]], [c5[0],c5[1]], [a5[0],a5[1]]),color='k')\n",
    "#设置图形对象\n",
    "plt.gca().add_patch(pgon5)\n",
    "#绘制并显示\n",
    "plt.show(pgon5)"
   ]
  }
 ],
 "metadata": {
  "kernelspec": {
   "display_name": "Python 3",
   "language": "python",
   "name": "python3"
  },
  "language_info": {
   "codemirror_mode": {
    "name": "ipython",
    "version": 3
   },
   "file_extension": ".py",
   "mimetype": "text/x-python",
   "name": "python",
   "nbconvert_exporter": "python",
   "pygments_lexer": "ipython3",
   "version": "3.5.4"
  }
 },
 "nbformat": 4,
 "nbformat_minor": 2
}
